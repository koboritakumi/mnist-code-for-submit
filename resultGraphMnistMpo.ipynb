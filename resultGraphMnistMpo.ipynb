{
 "cells": [
  {
   "cell_type": "code",
   "execution_count": 7,
   "metadata": {},
   "outputs": [],
   "source": [
    "f = open('mnist_mpo_result.txt', 'r')\n",
    "datalist = f.readlines()\n",
    "#print(datalist)"
   ]
  },
  {
   "cell_type": "code",
   "execution_count": 8,
   "metadata": {},
   "outputs": [],
   "source": [
    "import matplotlib.pyplot as plt"
   ]
  },
  {
   "cell_type": "code",
   "execution_count": 12,
   "metadata": {},
   "outputs": [
    {
     "name": "stdout",
     "output_type": "stream",
     "text": [
      "The amount of iteration: 99999 Last test accuracy: 0.9712\n"
     ]
    },
    {
     "data": {
      "image/png": "[encoded data removed]",
      "text/plain": [
       "<Figure size 432x288 with 1 Axes>"
      ]
     },
     "metadata": {
      "needs_background": "light"
     },
     "output_type": "display_data"
    }
   ],
   "source": [
    "n_iter = []\n",
    "accuracy = []\n",
    "for i in range(len(datalist)):\n",
    "    now = 0\n",
    "    while(datalist[i][now].isdecimal()==False):\n",
    "        now+=1\n",
    "    cnt=''\n",
    "    while(datalist[i][now].isdecimal()):\n",
    "        cnt+=datalist[i][now]\n",
    "        now+=1\n",
    "    n_iter.append(float(cnt))\n",
    "\n",
    "    while(datalist[i][now].isdecimal()==False):\n",
    "        now+=1\n",
    "    cnt=''\n",
    "    cnt+=datalist[i][now]\n",
    "    now+=1\n",
    "    cnt+=datalist[i][now]\n",
    "    now+=1\n",
    "    while(datalist[i][now].isdecimal()):\n",
    "        cnt+=datalist[i][now]\n",
    "        now+=1\n",
    "    accuracy.append(float(cnt))\n",
    "#print(n_iter)\n",
    "#print(accuracy)\n",
    "plt.ylabel('Test accuracy')\n",
    "plt.xlabel('Iteration counts')\n",
    "plt.plot(n_iter,accuracy)\n",
    "print('The amount of iteration:',int(n_iter[len(n_iter)-1]),'Last test accuracy:',accuracy[len(accuracy)-1])\n",
    "f.close()"
   ]
  },
  {
   "cell_type": "code",
   "execution_count": null,
   "metadata": {},
   "outputs": [],
   "source": []
  }
 ],
 "metadata": {
  "interpreter": {
   "hash": "ae11be1b6255ba9be031dc28287545f08e3e06e0be9d31d8cbbfad76c747be65"
  },
  "kernelspec": {
   "display_name": "Python 3.9.12 ('quantum')",
   "language": "python",
   "name": "python3"
  },
  "language_info": {
   "codemirror_mode": {
    "name": "ipython",
    "version": 3
   },
   "file_extension": ".py",
   "mimetype": "text/x-python",
   "name": "python",
   "nbconvert_exporter": "python",
   "pygments_lexer": "ipython3",
   "version": "3.9.12"
  },
  "orig_nbformat": 4
 },
 "nbformat": 4,
 "nbformat_minor": 2
}
